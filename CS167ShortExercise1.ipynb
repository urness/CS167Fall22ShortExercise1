{
  "nbformat": 4,
  "nbformat_minor": 0,
  "metadata": {
    "colab": {
      "name": "CS167ShortExercise1.ipynb",
      "provenance": [],
      "collapsed_sections": [],
      "include_colab_link": true
    },
    "kernelspec": {
      "name": "python3",
      "display_name": "Python 3"
    }
  },
  "cells": [
    {
      "cell_type": "markdown",
      "metadata": {
        "id": "view-in-github",
        "colab_type": "text"
      },
      "source": [
        "<a href=\"https://colab.research.google.com/github/urness/CS167Fall22ShortExercise1/blob/main/CS167ShortExercise1.ipynb\" target=\"_parent\"><img src=\"https://colab.research.google.com/assets/colab-badge.svg\" alt=\"Open In Colab\"/></a>"
      ]
    },
    {
      "cell_type": "markdown",
      "metadata": {
        "id": "nfq2exZ5CCXJ"
      },
      "source": [
        "##Name: (your name here)\n",
        "### CS 167 Machine Learning Fall 2022\n",
        "# Short Exercise #1\n",
        "The goal of this assignment is to get you familiar with using GitHub classroom and begin using Google Colab (www.colab.research.google.com). \n",
        "\n",
        "Below you will find a few tasks. Please complete them and submit your completed notebook to GitHub classroom.\n",
        "## Exercise Overview:\n",
        "1. Hello World\n",
        "2. Create a text cell that has the specified content.\n",
        "3. Create a code cell with a simple function and test it\n",
        "\n",
        "***"
      ]
    },
    {
      "cell_type": "markdown",
      "metadata": {
        "id": "wEFmynMxrkXI"
      },
      "source": [
        "## Exercise #1:"
      ]
    },
    {
      "cell_type": "code",
      "metadata": {
        "id": "HM45Ej1BCnSs"
      },
      "source": [
        "#As with any new environment, start out by printing out Hello World\n",
        "#-------Your Code should go below-------------\n",
        "\n",
        "\n",
        "# to run a cell, use the shortcut <shift + return> Try it now!"
      ],
      "execution_count": null,
      "outputs": []
    },
    {
      "cell_type": "markdown",
      "metadata": {
        "id": "1n1IsDhmEWRh"
      },
      "source": [
        "## Using different kinds of cells:\n",
        "\n",
        "One of the great things about using IPython Notebooks (.ipynb files), is that it is a great interface to combine functioning code with clear explanations. There are two main kinds of cells that you'll be using in your .ipynb:\n",
        "- Text Cells\n",
        "- Code Cells\n",
        "\n",
        "Text cells use Markdown (a lightweight markup language for creating formatted text using a plain-text editor). This means that you type in plain text, but add certian tags to indicate different levels of headings, dividers, **bold**/*italics*/`code`. [Here's a markdown cheatsheet](https://medium.com/@ingeh/markdown-for-jupyter-notebooks-cheatsheet-386c05aeebed).\n",
        "***\n"
      ]
    },
    {
      "cell_type": "markdown",
      "metadata": {
        "id": "M8BacCUqrLYW"
      },
      "source": [
        "## Exercise #2:\n",
        "### Text Cell:\n",
        "1. Below this text cell, create a new text cell (hover over the horizontal border and click ' + Text').\n",
        "2. Add some text content that tells me more about you. \n",
        "3. Add a title to the cell using the headings markdown\n",
        "4. Use 3 other markdown elements in the cell.\n",
        "\n",
        "Once you've added these elements, you can run the cell just like a code cell by using the <shift+return> shortcut."
      ]
    },
    {
      "cell_type": "markdown",
      "metadata": {
        "id": "Y9u7RJcMsD-3"
      },
      "source": [
        "## Exercise #3:\n",
        "#### Code Cell:\n",
        "1. Now, create a code cell ( '+ Code' button). \n",
        "2. Write a function that takes in two numbers, x and y, and returns the product of the two numbers. \n",
        "3. Test your function by giving it two numbers and printing out the result."
      ]
    }
  ]
}